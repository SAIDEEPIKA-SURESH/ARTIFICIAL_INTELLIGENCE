{
  "nbformat": 4,
  "nbformat_minor": 0,
  "metadata": {
    "colab": {
      "provenance": []
    },
    "kernelspec": {
      "name": "python3",
      "display_name": "Python 3"
    },
    "language_info": {
      "name": "python"
    }
  },
  "cells": [
    {
      "cell_type": "code",
      "execution_count": 1,
      "metadata": {
        "id": "Vf7D2KhO-QXW",
        "outputId": "c5ee8bd9-d9d7-407f-f5c6-bdb0f24734a9",
        "colab": {
          "base_uri": "https://localhost:8080/"
        }
      },
      "outputs": [
        {
          "output_type": "stream",
          "name": "stdout",
          "text": [
            "Following is Breadth-First Traversal (starting from vertex 2):\n",
            "2 0 3 1 "
          ]
        }
      ],
      "source": [
        "from collections import deque, defaultdict\n",
        "\n",
        "class Graph:\n",
        "    def __init__(self):\n",
        "        self.graph = defaultdict(list)\n",
        "\n",
        "    def addEdge(self, u, v):\n",
        "        self.graph[u].append(v)\n",
        "\n",
        "    def BFS(self, start):\n",
        "        visited = set()  # To track visited nodes\n",
        "        queue = deque([start])\n",
        "\n",
        "        while queue:\n",
        "            node = queue.popleft()\n",
        "\n",
        "            if node not in visited:\n",
        "                print(node, end=\" \")\n",
        "                visited.add(node)\n",
        "\n",
        "                # Add unvisited adjacent nodes to queue\n",
        "                for neighbor in self.graph[node]:\n",
        "                    if neighbor not in visited:\n",
        "                        queue.append(neighbor)\n",
        "\n",
        "# Driver code\n",
        "g = Graph()\n",
        "g.addEdge(0, 1)\n",
        "g.addEdge(0, 2)\n",
        "g.addEdge(1, 2)\n",
        "g.addEdge(2, 0)\n",
        "g.addEdge(2, 3)\n",
        "g.addEdge(3, 3)\n",
        "\n",
        "print(\"Following is Breadth-First Traversal (starting from vertex 2):\")\n",
        "g.BFS(2)\n"
      ]
    }
  ]
}