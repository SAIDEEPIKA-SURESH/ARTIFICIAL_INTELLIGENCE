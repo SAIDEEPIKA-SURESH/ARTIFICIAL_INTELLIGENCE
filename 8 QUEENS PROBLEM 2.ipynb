{
  "nbformat": 4,
  "nbformat_minor": 0,
  "metadata": {
    "colab": {
      "provenance": []
    },
    "kernelspec": {
      "name": "python3",
      "display_name": "Python 3"
    },
    "language_info": {
      "name": "python"
    }
  },
  "cells": [
    {
      "cell_type": "code",
      "execution_count": 1,
      "metadata": {
        "colab": {
          "base_uri": "https://localhost:8080/"
        },
        "id": "1Qm8gaqc9tOb",
        "outputId": "1bcbd9ce-fc36-4bce-c4c5-4f45f20a20d5"
      },
      "outputs": [
        {
          "output_type": "stream",
          "name": "stdout",
          "text": [
            "Enter the number of queens: 10\n",
            "Solution exists. Placements of queens:\n",
            "[1, 0, 0, 0, 0, 0, 0, 0, 0, 0]\n",
            "[0, 0, 1, 0, 0, 0, 0, 0, 0, 0]\n",
            "[0, 0, 0, 0, 0, 1, 0, 0, 0, 0]\n",
            "[0, 0, 0, 0, 0, 0, 0, 1, 0, 0]\n",
            "[0, 0, 0, 0, 0, 0, 0, 0, 0, 1]\n",
            "[0, 0, 0, 0, 1, 0, 0, 0, 0, 0]\n",
            "[0, 0, 0, 0, 0, 0, 0, 0, 1, 0]\n",
            "[0, 1, 0, 0, 0, 0, 0, 0, 0, 0]\n",
            "[0, 0, 0, 1, 0, 0, 0, 0, 0, 0]\n",
            "[0, 0, 0, 0, 0, 0, 1, 0, 0, 0]\n"
          ]
        }
      ],
      "source": [
        "def print_solution(board):\n",
        "    for row in board:\n",
        "        print(row)\n",
        "\n",
        "def is_safe(board, row, col, N):\n",
        "    # Check this column on the upper side\n",
        "    for i in range(row):\n",
        "        if board[i][col] == 1:\n",
        "            return False\n",
        "\n",
        "    # Check upper-left diagonal\n",
        "    for i, j in zip(range(row, -1, -1), range(col, -1, -1)):\n",
        "        if board[i][j] == 1:\n",
        "            return False\n",
        "\n",
        "    # Check upper-right diagonal\n",
        "    for i, j in zip(range(row, -1, -1), range(col, N)):\n",
        "        if board[i][j] == 1:\n",
        "            return False\n",
        "\n",
        "    return True\n",
        "\n",
        "def solve_n_queens(board, row, N):\n",
        "    if row >= N:\n",
        "        return True\n",
        "\n",
        "    for col in range(N):\n",
        "        if is_safe(board, row, col, N):\n",
        "            board[row][col] = 1\n",
        "\n",
        "            if solve_n_queens(board, row + 1, N):\n",
        "                return True\n",
        "\n",
        "            board[row][col] = 0  # Backtrack\n",
        "\n",
        "    return False\n",
        "\n",
        "def n_queens(N):\n",
        "    board = [[0] * N for _ in range(N)]\n",
        "\n",
        "    if solve_n_queens(board, 0, N):\n",
        "        print(\"Solution exists. Placements of queens:\")\n",
        "        print_solution(board)\n",
        "    else:\n",
        "        print(\"No solution exists.\")\n",
        "\n",
        "# Input\n",
        "N = int(input(\"Enter the number of queens: \"))\n",
        "n_queens(N)\n"
      ]
    }
  ]
}