{
  "nbformat": 4,
  "nbformat_minor": 0,
  "metadata": {
    "colab": {
      "provenance": []
    },
    "kernelspec": {
      "name": "python3",
      "display_name": "Python 3"
    },
    "language_info": {
      "name": "python"
    }
  },
  "cells": [
    {
      "cell_type": "code",
      "execution_count": 1,
      "metadata": {
        "colab": {
          "base_uri": "https://localhost:8080/"
        },
        "id": "WKH3U6v08AgN",
        "outputId": "b5283a3c-884c-4330-802f-7160fe0095fe"
      },
      "outputs": [
        {
          "output_type": "stream",
          "name": "stdout",
          "text": [
            "4\n"
          ]
        }
      ],
      "source": [
        "\n",
        "class Solution:\n",
        "    def solve(self, board):\n",
        "        board_tuple = tuple(sum(board, []))  # Flatten the board into a tuple\n",
        "        target = (0, 1, 2, 3, 4, 5, 6, 7, 8)  # Goal state\n",
        "\n",
        "        if board_tuple == target:\n",
        "            return 0  # Already solved\n",
        "\n",
        "        queue = [board_tuple]\n",
        "        visited = {board_tuple: 0}  # Dictionary to store states and their distances\n",
        "\n",
        "        return self.get_paths(queue, visited, target)\n",
        "\n",
        "    def get_paths(self, queue, visited, target):\n",
        "        cnt = 0  # Move count\n",
        "\n",
        "        while queue:\n",
        "            new_queue = []\n",
        "            for node in queue:\n",
        "                next_moves = self.find_next(node)\n",
        "                for move in next_moves:\n",
        "                    if move not in visited:\n",
        "                        visited[move] = cnt + 1\n",
        "                        if move == target:\n",
        "                            return cnt + 1  # Found the solution\n",
        "                        new_queue.append(move)\n",
        "            queue = new_queue\n",
        "            cnt += 1\n",
        "\n",
        "        return -1  # No solution found\n",
        "\n",
        "    def find_next(self, node):\n",
        "        # Possible swaps based on empty tile (0) position\n",
        "        moves = {\n",
        "            0: [1, 3],\n",
        "            1: [0, 2, 4],\n",
        "            2: [1, 5],\n",
        "            3: [0, 4, 6],\n",
        "            4: [1, 3, 5, 7],\n",
        "            5: [2, 4, 8],\n",
        "            6: [3, 7],\n",
        "            7: [4, 6, 8],\n",
        "            8: [5, 7]\n",
        "        }\n",
        "\n",
        "        results = []\n",
        "        pos_0 = node.index(0)  # Find position of empty tile\n",
        "\n",
        "        for move in moves[pos_0]:\n",
        "            new_node = list(node)\n",
        "            new_node[pos_0], new_node[move] = new_node[move], new_node[pos_0]\n",
        "            results.append(tuple(new_node))  # Store as tuple for immutability\n",
        "\n",
        "        return results\n",
        "\n",
        "\n",
        "# Example usage\n",
        "ob = Solution()\n",
        "matrix = [\n",
        "    [3, 1, 2],\n",
        "    [4, 7, 5],\n",
        "    [6, 8, 0]  # 0 represents the empty space\n",
        "]\n",
        "print(ob.solve(matrix))  # Output: Minimum number of moves to solve\n"
      ]
    }
  ]
}