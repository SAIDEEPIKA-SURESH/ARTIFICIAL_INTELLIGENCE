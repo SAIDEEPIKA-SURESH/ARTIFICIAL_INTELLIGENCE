{
  "nbformat": 4,
  "nbformat_minor": 0,
  "metadata": {
    "colab": {
      "provenance": []
    },
    "kernelspec": {
      "name": "python3",
      "display_name": "Python 3"
    },
    "language_info": {
      "name": "python"
    }
  },
  "cells": [
    {
      "cell_type": "code",
      "execution_count": 1,
      "metadata": {
        "id": "ZvKG07CQ_Rte",
        "outputId": "37f0b6a6-a36a-4a6a-f2d5-06764b3adb0f",
        "colab": {
          "base_uri": "https://localhost:8080/"
        }
      },
      "outputs": [
        {
          "output_type": "stream",
          "name": "stdout",
          "text": [
            "Path from initial state to solution state:\n",
            "(0, 0)\n",
            "(0, 3)\n",
            "(4, 0)\n",
            "(4, 3)\n",
            "(3, 0)\n",
            "(1, 3)\n",
            "(3, 3)\n",
            "(1, 0)\n",
            "(4, 2)\n",
            "(0, 2)\n"
          ]
        }
      ],
      "source": [
        "from collections import deque\n",
        "\n",
        "def Solution(a, b, target):\n",
        "    # Dictionary to mark visited states\n",
        "    visited = {}\n",
        "    isSolvable = False\n",
        "    path = []\n",
        "\n",
        "    # Queue for BFS\n",
        "    q = deque()\n",
        "\n",
        "    # Initial state with both jugs empty\n",
        "    q.append((0, 0))\n",
        "\n",
        "    while q:\n",
        "        # Current state\n",
        "        u = q.popleft()\n",
        "\n",
        "        # If this state is already visited, continue\n",
        "        if (u[0], u[1]) in visited:\n",
        "            continue\n",
        "\n",
        "        # If either jug has more than its capacity or negative water, ignore\n",
        "        if u[0] > a or u[1] > b or u[0] < 0 or u[1] < 0:\n",
        "            continue\n",
        "\n",
        "        # Store the path\n",
        "        path.append([u[0], u[1]])\n",
        "\n",
        "        # Mark this state as visited\n",
        "        visited[(u[0], u[1])] = 1\n",
        "\n",
        "        # If we reach the target amount in either jug, print the path\n",
        "        if u[0] == target or u[1] == target:\n",
        "            isSolvable = True\n",
        "\n",
        "            # Ensure the last step contains the exact target\n",
        "            if u[0] == target and u[1] != 0:\n",
        "                path.append([u[0], 0])\n",
        "            elif u[1] == target and u[0] != 0:\n",
        "                path.append([0, u[1]])\n",
        "\n",
        "            # Print the solution path\n",
        "            print(\"Path from initial state to solution state:\")\n",
        "            for state in path:\n",
        "                print(f\"({state[0]}, {state[1]})\")\n",
        "            return  # Stop further execution as solution is found\n",
        "\n",
        "        # Generate possible states and push into queue\n",
        "        q.append((u[0], b))  # Fill Jug2\n",
        "        q.append((a, u[1]))  # Fill Jug1\n",
        "        q.append((0, u[1]))  # Empty Jug1\n",
        "        q.append((u[0], 0))  # Empty Jug2\n",
        "\n",
        "        # Transfer water from Jug1 to Jug2\n",
        "        transfer = min(u[0], b - u[1])\n",
        "        q.append((u[0] - transfer, u[1] + transfer))\n",
        "\n",
        "        # Transfer water from Jug2 to Jug1\n",
        "        transfer = min(u[1], a - u[0])\n",
        "        q.append((u[0] + transfer, u[1] - transfer))\n",
        "\n",
        "    # If no solution is found\n",
        "    if not isSolvable:\n",
        "        print(\"Solution not possible\")\n",
        "\n",
        "# Driver code\n",
        "if __name__ == '__main__':\n",
        "    Jug1, Jug2, target = 4, 3, 2\n",
        "    Solution(Jug1, Jug2, target)\n"
      ]
    }
  ]
}